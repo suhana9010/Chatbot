{
  "nbformat": 4,
  "nbformat_minor": 0,
  "metadata": {
    "colab": {
      "name": "Untitled2.ipynb",
      "provenance": [],
      "collapsed_sections": [],
      "authorship_tag": "ABX9TyNFBQGrXKcMupHHwxAo5JKD",
      "include_colab_link": true
    },
    "kernelspec": {
      "display_name": "Python 3",
      "name": "python3"
    }
  },
  "cells": [
    {
      "cell_type": "markdown",
      "metadata": {
        "id": "view-in-github",
        "colab_type": "text"
      },
      "source": [
        "<a href=\"https://colab.research.google.com/github/suhana9010/Chatbot/blob/main/chatbot.ipynb\" target=\"_parent\"><img src=\"https://colab.research.google.com/assets/colab-badge.svg\" alt=\"Open In Colab\"/></a>"
      ]
    },
    {
      "cell_type": "code",
      "metadata": {
        "id": "xmvHPCKNn7dL"
      },
      "source": [
        "from nltk.chat.util import Chat, reflections"
      ],
      "execution_count": 3,
      "outputs": []
    },
    {
      "cell_type": "code",
      "metadata": {
        "id": "yYleAIDVpu9y"
      },
      "source": [
        "pairs=[\r\n",
        "       ['my name is (.*)', ['hi %1']],\r\n",
        "       ['(hi|hello|hey|holla|hola)',['hey there!', 'hi there!', 'haayyy!']],\r\n",
        "       ['(.*) in (.*) is fun', ['%1 in %2 is indeed fun']],\r\n",
        "       ['(.*)(location|city) ?', 'Tokyo, Japan'],\r\n",
        "       ['(.*) created you ?', ['shannu did using NLTK']],\r\n",
        "       ['how is the weather in (.*)', ['the weather in %1 is amazing like always']],\r\n",
        "       ['(.*)help(.*)', ['I can help you']],\r\n",
        "       ['(.*) your name ?', ['my name is Chitti!']],\r\n",
        "       ['(hi chitti|hello chitti|hey chitti|holla chitti|hola chitti)', ['hey dear!', 'hi dear!', 'haayyy dear!','hai dear!']],\r\n",
        "       [\"what's up?\", ['Noting much']],\r\n",
        "       ['(I love you|I like you|i love u)', ['Oh! really? This is the great day','I like you too', 'thank you']],\r\n",
        "       ['(.*) are you?', ['Is it required to remind you! Ofcourse,Your friend Chitti']],\r\n",
        "       ['(.*)(my exam|is my exam)', ['All the best!you are gonna rock it','Best of luck','Best wishes from my side','Have a nice day']],\r\n",
        "       ['(.*) your home?', ['In Guntur']],\r\n",
        "       [\r\n",
        "        r'quit',\r\n",
        "        ['Bye take care. See you soon :) ','It was nice talking to you. See you soon :)']\r\n",
        "],\r\n",
        "\r\n",
        "       \r\n",
        "]"
      ],
      "execution_count": 4,
      "outputs": []
    },
    {
      "cell_type": "code",
      "metadata": {
        "id": "U-mS4K4CrB9N"
      },
      "source": [
        "my_dummy_reflections={\r\n",
        "    'go': 'gone',\r\n",
        "    'hello': 'hey there'\r\n",
        "}"
      ],
      "execution_count": 5,
      "outputs": []
    },
    {
      "cell_type": "code",
      "metadata": {
        "cellView": "code",
        "colab": {
          "base_uri": "https://localhost:8080/"
        },
        "id": "AQJKcGMFp86X",
        "outputId": "53c96d10-c5fa-4703-ff48-32322c51e6b0"
      },
      "source": [
        "#@title Default title text\n",
        "chat=Chat(pairs, my_dummy_reflections)\n",
        "#chat._substitute('go hello')\n",
        "chat.converse()\n",
        "\n"
      ],
      "execution_count": 7,
      "outputs": [
        {
          "output_type": "stream",
          "text": [
            ">hey\n",
            "haayyy!\n",
            ">chating in holidays is fun\n",
            "chating in holidays is indeed fun\n",
            ">how is the weather in bangalore\n",
            "the weather in bangalore is amazing like always\n",
            ">Today is my exam\n",
            "Best of luck\n",
            ">what's your name?\n",
            "my name is Chitti!\n",
            ">can you help me please\n",
            "I can help you\n",
            ">who created you?\n",
            "shannu did using NLTK\n",
            ">my name is suhana\n",
            "hi suhana\n",
            ">what's up?\n",
            "Noting much\n",
            ">hello chitti\n",
            "hi there!\n",
            ">who are you?\n",
            "Is it required to remind you! Ofcourse,Your friend Chitti\n",
            ">I love you\n",
            "Oh! really? This is the great day\n",
            ">where's your home?\n",
            "In Guntur\n",
            ">quit\n",
            "Bye take care. See you soon :) \n"
          ],
          "name": "stdout"
        }
      ]
    }
  ]
}